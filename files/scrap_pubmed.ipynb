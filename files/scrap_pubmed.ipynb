{
 "cells": [
  {
   "cell_type": "markdown",
   "id": "286d60ec",
   "metadata": {},
   "source": [
    "Pubmed searhc criterea\n",
    "((deep learning)) OR (machine learning)\n",
    "2013-2022\n",
    "\n",
    "All results\n",
    "pubmed format \n",
    "\n",
    "https://pubmed.ncbi.nlm.nih.gov/?term=%28%28deep+learning%29%29+OR+%28machine+learning%29&filter=simsearch1.fha&filter=years.2013-2022\n",
    "\n",
    "text availability: abstract"
   ]
  },
  {
   "cell_type": "code",
   "execution_count": 7,
   "id": "12ca40f3",
   "metadata": {},
   "outputs": [],
   "source": [
    "import pandas as pd"
   ]
  },
  {
   "cell_type": "code",
   "execution_count": 3,
   "id": "3f4514db",
   "metadata": {},
   "outputs": [],
   "source": [
    "file_path = \"pubmed-deeplearni-set.txt\"\n",
    "f = open(file_path, 'r+', encoding=\"utf-8\")"
   ]
  },
  {
   "cell_type": "code",
   "execution_count": 4,
   "id": "44fd0495",
   "metadata": {},
   "outputs": [
    {
     "data": {
      "text/plain": [
       "<_io.TextIOWrapper name='pubmed-deeplearni-set.txt' mode='r+' encoding='utf-8'>"
      ]
     },
     "execution_count": 4,
     "metadata": {},
     "output_type": "execute_result"
    }
   ],
   "source": [
    "f"
   ]
  },
  {
   "cell_type": "code",
   "execution_count": 6,
   "id": "ebe88400",
   "metadata": {},
   "outputs": [
    {
     "data": {
      "text/plain": [
       "'PT  - Validation Study\\n'"
      ]
     },
     "execution_count": 6,
     "metadata": {},
     "output_type": "execute_result"
    }
   ],
   "source": [
    "f.readlines()[:300]"
   ]
  },
  {
   "cell_type": "code",
   "execution_count": null,
   "id": "8c758331",
   "metadata": {},
   "outputs": [],
   "source": []
  },
  {
   "cell_type": "code",
   "execution_count": null,
   "id": "38974721",
   "metadata": {},
   "outputs": [],
   "source": []
  },
  {
   "cell_type": "code",
   "execution_count": 11,
   "id": "81e4405c",
   "metadata": {},
   "outputs": [],
   "source": [
    "descriptions = pd.read_csv(\"netflix_titles.csv\")[\"description\"]\n",
    "# max_length = max([len(tokenizer.encode(description)) for description in descriptions])"
   ]
  },
  {
   "cell_type": "code",
   "execution_count": 12,
   "id": "24ad3998",
   "metadata": {},
   "outputs": [
    {
     "data": {
      "text/plain": [
       "0       As her father nears the end of his life, filmm...\n",
       "1       After crossing paths at a party, a Cape Town t...\n",
       "2       To protect his family from a powerful drug lor...\n",
       "3       Feuds, flirtations and toilet talk go down amo...\n",
       "4       In a city of coaching centers known to train I...\n",
       "5       The arrival of a charismatic young priest brin...\n",
       "6       Equestria's divided. But a bright-eyed hero be...\n",
       "7       On a photo shoot in Ghana, an American model s...\n",
       "8       A talented batch of amateur bakers face off in...\n",
       "9       A woman adjusting to life after a loss contend...\n",
       "10      Sicily boasts a bold \"Anti-Mafia\" coalition. B...\n",
       "11      Struggling to earn a living in Bangkok, a man ...\n",
       "12      After most of her family is murdered in a terr...\n",
       "13      When the clever but socially-awkward Tetê join...\n",
       "14      Cameras following Bengaluru police on the job ...\n",
       "15      Students of color navigate the daily slights a...\n",
       "16      Declassified documents reveal the post-WWII li...\n",
       "17      Strangers Diego and Isabel flee their home in ...\n",
       "18      After a deadly home invasion at a couple’s new...\n",
       "19      In the 1960s, a Holocaust survivor joins a gro...\n",
       "20      In the late 1970s, an accused serial rapist cl...\n",
       "21      When a good deed unwittingly endangers his cla...\n",
       "22      Newly divorced and denied visitation rights wi...\n",
       "23      From arcade games to sled days and hiccup cure...\n",
       "24      When the father of the man she loves insists t...\n",
       "25      Finding love can be hard for anyone. For young...\n",
       "26      A tangled love triangle ensues when a man fall...\n",
       "27      Mourning the loss of their beloved junior high...\n",
       "28      A family’s idyllic suburban life shatters when...\n",
       "29      Blackmailed by his company's CEO, a low-level ...\n",
       "                              ...                        \n",
       "8777    Traditional girl Pie is initially uncomfortabl...\n",
       "8778    No longer university girls, Kim and Pie face n...\n",
       "8779    Roommates Wine and Pie find their lives turned...\n",
       "8780    Nate frees a mythical being trapped in a magic...\n",
       "8781    Nate's special Yo-Kai Watch is missing. He tra...\n",
       "8782    With an all-important high school party at sta...\n",
       "8783    Friends Mai, Oto and Vik's games at the park b...\n",
       "8784    Vik meets new friends in a new city, where the...\n",
       "8785    With the mind of a human being, and the body o...\n",
       "8786    A gifted young ballet dancer struggles to find...\n",
       "8787    After stepping in to revitalize his family's h...\n",
       "8788    A soap opera producer, director and makeup art...\n",
       "8789    Laida and Miggy think they've found perfect ha...\n",
       "8790    An Israeli counterterrorism soldier with a sec...\n",
       "8791    When a divorced writer gets a letter from an o...\n",
       "8792    Aided only by a tough female police officer, a...\n",
       "8793    When a father of eight and a mother of 10 prep...\n",
       "8794    Amid the tumult following Egyptian President M...\n",
       "8795    Now that he's discovered the Pendulum Summonin...\n",
       "8796    During the Mongol invasions, Yunus Emre leaves...\n",
       "8797    Teen surfer Zak Storm is mysteriously transpor...\n",
       "8798    A philandering small-town mechanic's political...\n",
       "8799    A change in the leadership of a political part...\n",
       "8800    Strong-willed, middle-class Kashaf and carefre...\n",
       "8801    Recovering alcoholic Talal wakes up inside a s...\n",
       "8802    A political cartoonist, a crime reporter and a...\n",
       "8803    While living alone in a spooky town, a young g...\n",
       "8804    Looking to survive in a world taken over by zo...\n",
       "8805    Dragged from civilian life, a former superhero...\n",
       "8806    A scrappy but poor boy worms his way into a ty...\n",
       "Name: description, Length: 8807, dtype: object"
      ]
     },
     "execution_count": 12,
     "metadata": {},
     "output_type": "execute_result"
    }
   ],
   "source": [
    "descriptions"
   ]
  },
  {
   "cell_type": "code",
   "execution_count": null,
   "id": "878989bf",
   "metadata": {},
   "outputs": [],
   "source": []
  },
  {
   "cell_type": "code",
   "execution_count": null,
   "id": "b304a722",
   "metadata": {},
   "outputs": [],
   "source": [
    "class NetflixDataset(Dataset):\n",
    "    def __init__(self, txt_list, tokenizer, max_length):\n",
    "        self.input_ids = []\n",
    "        self.attn_masks = []\n",
    "        self.labels = []\n",
    "        for txt in txt_list:\n",
    "            # Encode the descriptions using the GPT-Neo tokenizer\n",
    "            encodings_dict = tokenizer(‘<|startoftext|>’ \n",
    "                                        + txt +    \n",
    "                                        ‘<|endoftext|>’,\n",
    "                                        truncation=True,\n",
    "                                        max_length=max_length, \n",
    "                                        padding=”max_length”)\n",
    "        input_ids = torch.tensor(encodings_dict[‘input_ids’])    \n",
    "        self.input_ids.append(input_ids)\n",
    "        mask = torch.tensor(encodings_dict[‘attention_mask’])\n",
    "        self.attn_masks.append(mask)\n",
    "def __len__(self):\n",
    " return len(self.input_ids)\n",
    "def __getitem__(self, idx):\n",
    " return self.input_ids[idx], self.attn_masks[idx]"
   ]
  }
 ],
 "metadata": {
  "kernelspec": {
   "display_name": "Python 3",
   "language": "python",
   "name": "python3"
  },
  "language_info": {
   "codemirror_mode": {
    "name": "ipython",
    "version": 3
   },
   "file_extension": ".py",
   "mimetype": "text/x-python",
   "name": "python",
   "nbconvert_exporter": "python",
   "pygments_lexer": "ipython3",
   "version": "3.6.9"
  }
 },
 "nbformat": 4,
 "nbformat_minor": 5
}
